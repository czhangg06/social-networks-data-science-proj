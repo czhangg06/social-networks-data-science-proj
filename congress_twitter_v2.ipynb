{
 "cells": [
  {
   "cell_type": "code",
   "execution_count": 1,
   "metadata": {
    "collapsed": false
   },
   "outputs": [],
   "source": [
    "import networkx as nx\n",
    "from pickle import *\n",
    "import numpy as np\n",
    "import pandas as pd\n",
    "from pandas.io.json import json_normalize\n",
    "import json\n",
    "import yaml\n",
    "from datascience import *"
   ]
  },
  {
   "cell_type": "code",
   "execution_count": 2,
   "metadata": {
    "collapsed": false
   },
   "outputs": [],
   "source": [
    "import matplotlib\n",
    "matplotlib.use('Agg')\n",
    "%matplotlib inline\n",
    "import matplotlib.pyplot as plt\n",
    "import numpy as np\n",
    "plt.style.use('fivethirtyeight')"
   ]
  },
  {
   "cell_type": "markdown",
   "metadata": {},
   "source": [
    "### Congress on Twitter data, version 2\n",
    "\n",
    "The original Congress on Twitter data was difficult to link to biographical information about each legislator.\n",
    "\n",
    "In order to address this issue, I am releasing this second version of the Congress on Twitter dataset. I recommend that you use this dataset instead of the previous one, but you are free to choose either one.\n",
    "\n",
    "The main differences between this dataset and the previous one are:\n",
    "\n",
    "1. This dataset only consists of 'official' Twitter accounts for each legislator (many legislators also have distinct campaign-related accounts)\n",
    "2. This dataset has been linked to the biographical information about each legislator, so it has information like party, state, et cetera\n",
    "\n",
    "In order to narrow the data down to official Twitter accounts, and to merge it with the biographical information, I had to omit\n",
    "\n",
    "* 16 legislators for whom I did not have official Twitter account info\n",
    "* 3 legislators whose official Twitter accounts didn't follow any other Members of Congress (so they were isolates in the network)"
   ]
  },
  {
   "cell_type": "markdown",
   "metadata": {},
   "source": [
    "#### Reading the data in"
   ]
  },
  {
   "cell_type": "code",
   "execution_count": 3,
   "metadata": {
    "collapsed": false
   },
   "outputs": [],
   "source": [
    "official_congress_twitter, official_congress_friends, legislator_data = load(open('../congress_twitter_v2.pickle', 'rb'))\n",
    "legislator_data = Table().from_df(legislator_data)"
   ]
  },
  {
   "cell_type": "code",
   "execution_count": 4,
   "metadata": {
    "collapsed": false
   },
   "outputs": [],
   "source": [
    "congress_members = load(open('../../project/congress_twitter/data/congress_list_members.pickle', 'rb'))"
   ]
  },
  {
   "cell_type": "code",
   "execution_count": 5,
   "metadata": {
    "collapsed": false
   },
   "outputs": [],
   "source": [
    "congress_members_data = pd.DataFrame([x for x in congress_members])\n",
    "congress_members_data = Table().from_df(congress_members_data)"
   ]
  },
  {
   "cell_type": "code",
   "execution_count": 43,
   "metadata": {
    "collapsed": false
   },
   "outputs": [
    {
     "data": {
      "text/html": [
       "<table border=\"1\" class=\"dataframe\">\n",
       "    <thead>\n",
       "        <tr>\n",
       "            <th>contributors_enabled</th> <th>created_at</th> <th>default_profile</th> <th>default_profile_image</th> <th>description</th> <th>entities</th> <th>favourites_count</th> <th>follow_request_sent</th> <th>followers_count</th> <th>following</th> <th>friends_count</th> <th>geo_enabled</th> <th>has_extended_profile</th> <th>id</th> <th>id_str</th> <th>is_translation_enabled</th> <th>is_translator</th> <th>lang</th> <th>listed_count</th> <th>location</th> <th>name</th> <th>notifications</th> <th>profile_background_color</th> <th>profile_background_image_url</th> <th>profile_background_image_url_https</th> <th>profile_background_tile</th> <th>profile_banner_url</th> <th>profile_image_url</th> <th>profile_image_url_https</th> <th>profile_link_color</th> <th>profile_sidebar_border_color</th> <th>profile_sidebar_fill_color</th> <th>profile_text_color</th> <th>profile_use_background_image</th> <th>protected</th> <th>screen_name</th> <th>status</th> <th>statuses_count</th> <th>time_zone</th> <th>url</th> <th>utc_offset</th> <th>verified</th> <th>mod_screen_name</th>\n",
       "        </tr>\n",
       "    </thead>\n",
       "    <tbody>\n",
       "        <tr>\n",
       "            <td>False               </td> <td>Tue Jun 28 14:57:49 +0000 2016</td> <td>True           </td> <td>False                </td> <td>Representing MA's 7th District in the U.S. House of Repr ...</td> <td>{'description': {'urls': [{'expanded_url': 'https://www. ...</td> <td>9               </td> <td>False              </td> <td>1621           </td> <td>False    </td> <td>94           </td> <td>False      </td> <td>False               </td> <td>747806211983179776</td> <td>747806211983179776</td> <td>False                 </td> <td>False        </td> <td>en  </td> <td>45          </td> <td>Somerville, MA               </td> <td>Rep. Michael Capuano</td> <td>False        </td> <td>F5F8FA                  </td> <td>None                                            </td> <td>None                                             </td> <td>False                  </td> <td>https://pbs.twimg.com/profile_banners/747806211983179776 ...</td> <td>http://pbs.twimg.com/profile_images/747855038681325569/N ...</td> <td>https://pbs.twimg.com/profile_images/747855038681325569/ ...</td> <td>2B7BB9            </td> <td>C0DEED                      </td> <td>DDEEF6                    </td> <td>333333            </td> <td>True                        </td> <td>False    </td> <td>RepMikeCapuano </td> <td>{'text': 'Read about the conclusion of the district work ...</td> <td>35            </td> <td>Eastern Time (US & Canada)</td> <td>https://t.co/3ljoXJRbEf</td> <td>-14400    </td> <td>True    </td> <td>repmikecapuano </td>\n",
       "        </tr>\n",
       "    </tbody>\n",
       "        <tr>\n",
       "            <td>False               </td> <td>Thu Feb 19 20:08:54 +0000 2015</td> <td>True           </td> <td>False                </td> <td>Representing California's 33rd District in Congress - On ...</td> <td>{'description': {'urls': []}, 'url': {'urls': [{'expande ...</td> <td>100             </td> <td>False              </td> <td>6692           </td> <td>False    </td> <td>4690         </td> <td>True       </td> <td>False               </td> <td>3044993235        </td> <td>3044993235        </td> <td>False                 </td> <td>False        </td> <td>en  </td> <td>300         </td> <td>Washington D.C. & Los Angeles</td> <td>Rep. Ted Lieu       </td> <td>False        </td> <td>C0DEED                  </td> <td>http://abs.twimg.com/images/themes/theme1/bg.png</td> <td>https://abs.twimg.com/images/themes/theme1/bg.png</td> <td>False                  </td> <td>https://pbs.twimg.com/profile_banners/3044993235/1461336687 </td> <td>http://pbs.twimg.com/profile_images/756518703517360129/z ...</td> <td>https://pbs.twimg.com/profile_images/756518703517360129/ ...</td> <td>0084B4            </td> <td>C0DEED                      </td> <td>DDEEF6                    </td> <td>333333            </td> <td>True                        </td> <td>False    </td> <td>RepTedLieu     </td> <td>{'text': 'RT @MayorOfLA: 5th year running that LA has be ...</td> <td>1924          </td> <td>Eastern Time (US & Canada)</td> <td>https://t.co/SFF1Hjj9ww</td> <td>-14400    </td> <td>True    </td> <td>reptedlieu     </td>\n",
       "        </tr>\n",
       "    </tbody>\n",
       "        <tr>\n",
       "            <td>False               </td> <td>Mon Feb 09 16:00:36 +0000 2015</td> <td>False          </td> <td>False                </td> <td>Congresswoman Representing American Samoa                   </td> <td>{'description': {'urls': []}, 'url': {'urls': [{'expande ...</td> <td>0               </td> <td>False              </td> <td>494            </td> <td>False    </td> <td>0            </td> <td>False      </td> <td>False               </td> <td>3026622545        </td> <td>3026622545        </td> <td>False                 </td> <td>False        </td> <td>en  </td> <td>52          </td> <td>Washington, D.C.             </td> <td>Congresswoman Amata </td> <td>False        </td> <td>000000                  </td> <td>http://abs.twimg.com/images/themes/theme1/bg.png</td> <td>https://abs.twimg.com/images/themes/theme1/bg.png</td> <td>False                  </td> <td>https://pbs.twimg.com/profile_banners/3026622545/1423503404 </td> <td>http://pbs.twimg.com/profile_images/564816554185859073/f ...</td> <td>https://pbs.twimg.com/profile_images/564816554185859073/ ...</td> <td>94D487            </td> <td>000000                      </td> <td>000000                    </td> <td>000000            </td> <td>False                       </td> <td>False    </td> <td>RepAmata       </td> <td>{'text': \"Hello everyone, I'm excited to join Twitter to ...</td> <td>1             </td> <td>None                      </td> <td>http://t.co/L7B6x0yzTS </td> <td>nan       </td> <td>True    </td> <td>repamata       </td>\n",
       "        </tr>\n",
       "    </tbody>\n",
       "        <tr>\n",
       "            <td>False               </td> <td>Wed Feb 04 21:01:23 +0000 2015</td> <td>True           </td> <td>False                </td> <td>Pete Aguilar represents CA’s 31st Congressional District ...</td> <td>{'description': {'urls': []}, 'url': {'urls': [{'expande ...</td> <td>1               </td> <td>False              </td> <td>2894           </td> <td>False    </td> <td>143          </td> <td>False      </td> <td>False               </td> <td>3018670151        </td> <td>3018670151        </td> <td>False                 </td> <td>False        </td> <td>en  </td> <td>218         </td> <td>San Bernardino, CA           </td> <td>Pete Aguilar        </td> <td>False        </td> <td>C0DEED                  </td> <td>http://abs.twimg.com/images/themes/theme1/bg.png</td> <td>https://abs.twimg.com/images/themes/theme1/bg.png</td> <td>False                  </td> <td>nan                                                         </td> <td>http://pbs.twimg.com/profile_images/724955126897725440/B ...</td> <td>https://pbs.twimg.com/profile_images/724955126897725440/ ...</td> <td>0084B4            </td> <td>C0DEED                      </td> <td>DDEEF6                    </td> <td>333333            </td> <td>True                        </td> <td>False    </td> <td>RepPeteAguilar </td> <td>{'text': \"It's #BreastCancerAwarenessMonth. Learn about  ...</td> <td>731           </td> <td>None                      </td> <td>http://t.co/o4deRoUnuK </td> <td>nan       </td> <td>True    </td> <td>reppeteaguilar </td>\n",
       "        </tr>\n",
       "    </tbody>\n",
       "        <tr>\n",
       "            <td>False               </td> <td>Tue Jan 13 15:08:48 +0000 2015</td> <td>False          </td> <td>False                </td> <td>U.S. Congressman (WI-06)                                    </td> <td>{'description': {'urls': []}, 'url': {'urls': [{'expande ...</td> <td>13              </td> <td>False              </td> <td>1752           </td> <td>False    </td> <td>205          </td> <td>False      </td> <td>False               </td> <td>2976606250        </td> <td>2976606250        </td> <td>False                 </td> <td>False        </td> <td>en  </td> <td>148         </td> <td>Washington, D.C.             </td> <td>Rep. Glenn Grothman </td> <td>False        </td> <td>000000                  </td> <td>http://abs.twimg.com/images/themes/theme1/bg.png</td> <td>https://abs.twimg.com/images/themes/theme1/bg.png</td> <td>False                  </td> <td>https://pbs.twimg.com/profile_banners/2976606250/1474399478 </td> <td>http://pbs.twimg.com/profile_images/572507648281419776/D ...</td> <td>https://pbs.twimg.com/profile_images/572507648281419776/ ...</td> <td>3B94D9            </td> <td>000000                      </td> <td>000000                    </td> <td>000000            </td> <td>False                       </td> <td>False    </td> <td>RepGrothman    </td> <td>{'text': 'US forest products industry accounts for 4% of ...</td> <td>422           </td> <td>None                      </td> <td>http://t.co/MY3WTtaAeb </td> <td>nan       </td> <td>True    </td> <td>repgrothman    </td>\n",
       "        </tr>\n",
       "    </tbody>\n",
       "        <tr>\n",
       "            <td>False               </td> <td>Tue Jan 13 15:44:28 +0000 2015</td> <td>True           </td> <td>False                </td> <td>Official account for Congresswoman Mia Love, Utah's 4th  ...</td> <td>{'description': {'urls': []}, 'url': {'urls': [{'expande ...</td> <td>19              </td> <td>False              </td> <td>8680           </td> <td>False    </td> <td>116          </td> <td>True       </td> <td>False               </td> <td>2976598347        </td> <td>2976598347        </td> <td>False                 </td> <td>False        </td> <td>en  </td> <td>278         </td> <td>Saratoga Springs, UT         </td> <td>Rep. Mia Love       </td> <td>False        </td> <td>C0DEED                  </td> <td>http://abs.twimg.com/images/themes/theme1/bg.png</td> <td>https://abs.twimg.com/images/themes/theme1/bg.png</td> <td>False                  </td> <td>https://pbs.twimg.com/profile_banners/2976598347/1464716619 </td> <td>http://pbs.twimg.com/profile_images/674678985817591808/U ...</td> <td>https://pbs.twimg.com/profile_images/674678985817591808/ ...</td> <td>0084B4            </td> <td>C0DEED                      </td> <td>DDEEF6                    </td> <td>333333            </td> <td>True                        </td> <td>False    </td> <td>RepMiaLove     </td> <td>{'text': 'Flag retirement ceremony w/W Jordan scouts tod ...</td> <td>440           </td> <td>None                      </td> <td>https://t.co/FPQkNcVd05</td> <td>nan       </td> <td>True    </td> <td>repmialove     </td>\n",
       "        </tr>\n",
       "    </tbody>\n",
       "        <tr>\n",
       "            <td>False               </td> <td>Mon Jan 12 21:41:39 +0000 2015</td> <td>True           </td> <td>False                </td> <td>Aloha!  Welcome to the official Twitter for Congressman  ...</td> <td>{'description': {'urls': []}, 'url': {'urls': [{'expande ...</td> <td>241             </td> <td>False              </td> <td>2645           </td> <td>False    </td> <td>1811         </td> <td>True       </td> <td>False               </td> <td>2975350155        </td> <td>2975350155        </td> <td>False                 </td> <td>False        </td> <td>en  </td> <td>180         </td> <td>Honolulu / Washington, D.C.  </td> <td>Mark Takai          </td> <td>False        </td> <td>C0DEED                  </td> <td>http://abs.twimg.com/images/themes/theme1/bg.png</td> <td>https://abs.twimg.com/images/themes/theme1/bg.png</td> <td>False                  </td> <td>https://pbs.twimg.com/profile_banners/2975350155/1449688105 </td> <td>http://pbs.twimg.com/profile_images/554758316929216513/_ ...</td> <td>https://pbs.twimg.com/profile_images/554758316929216513/ ...</td> <td>0084B4            </td> <td>C0DEED                      </td> <td>DDEEF6                    </td> <td>333333            </td> <td>True                        </td> <td>False    </td> <td>RepMarkTakai   </td> <td>{'text': \"RT @TNCHawaii: Heading in to see @RepMarkTakai ...</td> <td>711           </td> <td>Eastern Time (US & Canada)</td> <td>http://t.co/6QVeQHosr6 </td> <td>-14400    </td> <td>True    </td> <td>repmarktakai   </td>\n",
       "        </tr>\n",
       "    </tbody>\n",
       "        <tr>\n",
       "            <td>False               </td> <td>Mon Jan 12 18:48:35 +0000 2015</td> <td>True           </td> <td>False                </td> <td>I'm honored to serve Georgia's 10th Congressional District. </td> <td>{'description': {'urls': []}, 'url': {'urls': [{'expande ...</td> <td>341             </td> <td>False              </td> <td>2838           </td> <td>False    </td> <td>675          </td> <td>False      </td> <td>False               </td> <td>2975091705        </td> <td>2975091705        </td> <td>False                 </td> <td>False        </td> <td>en  </td> <td>144         </td> <td>Monroe, GA; Washington, D.C. </td> <td>Congressman Hice    </td> <td>False        </td> <td>C0DEED                  </td> <td>http://abs.twimg.com/images/themes/theme1/bg.png</td> <td>https://abs.twimg.com/images/themes/theme1/bg.png</td> <td>False                  </td> <td>https://pbs.twimg.com/profile_banners/2975091705/1428081856 </td> <td>http://pbs.twimg.com/profile_images/554717519135522816/x ...</td> <td>https://pbs.twimg.com/profile_images/554717519135522816/ ...</td> <td>0084B4            </td> <td>C0DEED                      </td> <td>DDEEF6                    </td> <td>333333            </td> <td>True                        </td> <td>False    </td> <td>CongressmanHice</td> <td>{'text': 'My staff is bringing the services of my office ...</td> <td>793           </td> <td>Eastern Time (US & Canada)</td> <td>https://t.co/apR1drgdzS</td> <td>-14400    </td> <td>True    </td> <td>congressmanhice</td>\n",
       "        </tr>\n",
       "    </tbody>\n",
       "        <tr>\n",
       "            <td>False               </td> <td>Mon Jan 12 00:33:43 +0000 2015</td> <td>True           </td> <td>False                </td> <td>Proudly serving Georgia's 1st Congressional District        </td> <td>{'description': {'urls': []}, 'url': {'urls': [{'expande ...</td> <td>41              </td> <td>False              </td> <td>3196           </td> <td>False    </td> <td>251          </td> <td>False      </td> <td>False               </td> <td>2973870195        </td> <td>2973870195        </td> <td>False                 </td> <td>False        </td> <td>en  </td> <td>161         </td> <td>                             </td> <td>Buddy Carter        </td> <td>False        </td> <td>C0DEED                  </td> <td>http://abs.twimg.com/images/themes/theme1/bg.png</td> <td>https://abs.twimg.com/images/themes/theme1/bg.png</td> <td>False                  </td> <td>https://pbs.twimg.com/profile_banners/2973870195/1421023289 </td> <td>http://pbs.twimg.com/profile_images/554437784912400384/N ...</td> <td>https://pbs.twimg.com/profile_images/554437784912400384/ ...</td> <td>0084B4            </td> <td>C0DEED                      </td> <td>DDEEF6                    </td> <td>333333            </td> <td>True                        </td> <td>False    </td> <td>RepBuddyCarter </td> <td>{'text': 'Today I requested the IRS extend the deadline  ...</td> <td>697           </td> <td>None                      </td> <td>https://t.co/zGq0mX8dEy</td> <td>nan       </td> <td>True    </td> <td>repbuddycarter </td>\n",
       "        </tr>\n",
       "    </tbody>\n",
       "        <tr>\n",
       "            <td>False               </td> <td>Fri Jan 09 21:18:27 +0000 2015</td> <td>True           </td> <td>False                </td> <td>U.S. Representative for #NY04 (Long Island). Former Nass ...</td> <td>{'description': {'urls': []}, 'url': {'urls': [{'expande ...</td> <td>0               </td> <td>False              </td> <td>4082           </td> <td>False    </td> <td>980          </td> <td>False      </td> <td>False               </td> <td>2970462034        </td> <td>2970462034        </td> <td>False                 </td> <td>False        </td> <td>en  </td> <td>198         </td> <td>Long Island, NY              </td> <td>Kathleen Rice       </td> <td>False        </td> <td>C0DEED                  </td> <td>http://abs.twimg.com/images/themes/theme1/bg.png</td> <td>https://abs.twimg.com/images/themes/theme1/bg.png</td> <td>False                  </td> <td>https://pbs.twimg.com/profile_banners/2970462034/1453232802 </td> <td>http://pbs.twimg.com/profile_images/755805100094984192/d ...</td> <td>https://pbs.twimg.com/profile_images/755805100094984192/ ...</td> <td>0084B4            </td> <td>C0DEED                      </td> <td>DDEEF6                    </td> <td>333333            </td> <td>True                        </td> <td>False    </td> <td>RepKathleenRice</td> <td>{'text': 'RT @RepJimCosta: During #DomesticViolenceAware ...</td> <td>1323          </td> <td>None                      </td> <td>http://t.co/XBMpgvbVZ1 </td> <td>nan       </td> <td>True    </td> <td>repkathleenrice</td>\n",
       "        </tr>\n",
       "    </tbody>\n",
       "</table>\n",
       "<p>... (560 rows omitted)</p"
      ],
      "text/plain": [
       "contributors_enabled | created_at                     | default_profile | default_profile_image | description                                                  | entities                                                     | favourites_count | follow_request_sent | followers_count | following | friends_count | geo_enabled | has_extended_profile | id                 | id_str             | is_translation_enabled | is_translator | lang | listed_count | location                      | name                 | notifications | profile_background_color | profile_background_image_url                     | profile_background_image_url_https                | profile_background_tile | profile_banner_url                                           | profile_image_url                                            | profile_image_url_https                                      | profile_link_color | profile_sidebar_border_color | profile_sidebar_fill_color | profile_text_color | profile_use_background_image | protected | screen_name     | status                                                       | statuses_count | time_zone                  | url                     | utc_offset | verified | mod_screen_name\n",
       "False                | Tue Jun 28 14:57:49 +0000 2016 | True            | False                 | Representing MA's 7th District in the U.S. House of Repr ... | {'description': {'urls': [{'expanded_url': 'https://www. ... | 9                | False               | 1621            | False     | 94            | False       | False                | 747806211983179776 | 747806211983179776 | False                  | False         | en   | 45           | Somerville, MA                | Rep. Michael Capuano | False         | F5F8FA                   | None                                             | None                                              | False                   | https://pbs.twimg.com/profile_banners/747806211983179776 ... | http://pbs.twimg.com/profile_images/747855038681325569/N ... | https://pbs.twimg.com/profile_images/747855038681325569/ ... | 2B7BB9             | C0DEED                       | DDEEF6                     | 333333             | True                         | False     | RepMikeCapuano  | {'text': 'Read about the conclusion of the district work ... | 35             | Eastern Time (US & Canada) | https://t.co/3ljoXJRbEf | -14400     | True     | repmikecapuano\n",
       "False                | Thu Feb 19 20:08:54 +0000 2015 | True            | False                 | Representing California's 33rd District in Congress - On ... | {'description': {'urls': []}, 'url': {'urls': [{'expande ... | 100              | False               | 6692            | False     | 4690          | True        | False                | 3044993235         | 3044993235         | False                  | False         | en   | 300          | Washington D.C. & Los Angeles | Rep. Ted Lieu        | False         | C0DEED                   | http://abs.twimg.com/images/themes/theme1/bg.png | https://abs.twimg.com/images/themes/theme1/bg.png | False                   | https://pbs.twimg.com/profile_banners/3044993235/1461336687  | http://pbs.twimg.com/profile_images/756518703517360129/z ... | https://pbs.twimg.com/profile_images/756518703517360129/ ... | 0084B4             | C0DEED                       | DDEEF6                     | 333333             | True                         | False     | RepTedLieu      | {'text': 'RT @MayorOfLA: 5th year running that LA has be ... | 1924           | Eastern Time (US & Canada) | https://t.co/SFF1Hjj9ww | -14400     | True     | reptedlieu\n",
       "False                | Mon Feb 09 16:00:36 +0000 2015 | False           | False                 | Congresswoman Representing American Samoa                    | {'description': {'urls': []}, 'url': {'urls': [{'expande ... | 0                | False               | 494             | False     | 0             | False       | False                | 3026622545         | 3026622545         | False                  | False         | en   | 52           | Washington, D.C.              | Congresswoman Amata  | False         | 000000                   | http://abs.twimg.com/images/themes/theme1/bg.png | https://abs.twimg.com/images/themes/theme1/bg.png | False                   | https://pbs.twimg.com/profile_banners/3026622545/1423503404  | http://pbs.twimg.com/profile_images/564816554185859073/f ... | https://pbs.twimg.com/profile_images/564816554185859073/ ... | 94D487             | 000000                       | 000000                     | 000000             | False                        | False     | RepAmata        | {'text': \"Hello everyone, I'm excited to join Twitter to ... | 1              | None                       | http://t.co/L7B6x0yzTS  | nan        | True     | repamata\n",
       "False                | Wed Feb 04 21:01:23 +0000 2015 | True            | False                 | Pete Aguilar represents CA’s 31st Congressional District ... | {'description': {'urls': []}, 'url': {'urls': [{'expande ... | 1                | False               | 2894            | False     | 143           | False       | False                | 3018670151         | 3018670151         | False                  | False         | en   | 218          | San Bernardino, CA            | Pete Aguilar         | False         | C0DEED                   | http://abs.twimg.com/images/themes/theme1/bg.png | https://abs.twimg.com/images/themes/theme1/bg.png | False                   | nan                                                          | http://pbs.twimg.com/profile_images/724955126897725440/B ... | https://pbs.twimg.com/profile_images/724955126897725440/ ... | 0084B4             | C0DEED                       | DDEEF6                     | 333333             | True                         | False     | RepPeteAguilar  | {'text': \"It's #BreastCancerAwarenessMonth. Learn about  ... | 731            | None                       | http://t.co/o4deRoUnuK  | nan        | True     | reppeteaguilar\n",
       "False                | Tue Jan 13 15:08:48 +0000 2015 | False           | False                 | U.S. Congressman (WI-06)                                     | {'description': {'urls': []}, 'url': {'urls': [{'expande ... | 13               | False               | 1752            | False     | 205           | False       | False                | 2976606250         | 2976606250         | False                  | False         | en   | 148          | Washington, D.C.              | Rep. Glenn Grothman  | False         | 000000                   | http://abs.twimg.com/images/themes/theme1/bg.png | https://abs.twimg.com/images/themes/theme1/bg.png | False                   | https://pbs.twimg.com/profile_banners/2976606250/1474399478  | http://pbs.twimg.com/profile_images/572507648281419776/D ... | https://pbs.twimg.com/profile_images/572507648281419776/ ... | 3B94D9             | 000000                       | 000000                     | 000000             | False                        | False     | RepGrothman     | {'text': 'US forest products industry accounts for 4% of ... | 422            | None                       | http://t.co/MY3WTtaAeb  | nan        | True     | repgrothman\n",
       "False                | Tue Jan 13 15:44:28 +0000 2015 | True            | False                 | Official account for Congresswoman Mia Love, Utah's 4th  ... | {'description': {'urls': []}, 'url': {'urls': [{'expande ... | 19               | False               | 8680            | False     | 116           | True        | False                | 2976598347         | 2976598347         | False                  | False         | en   | 278          | Saratoga Springs, UT          | Rep. Mia Love        | False         | C0DEED                   | http://abs.twimg.com/images/themes/theme1/bg.png | https://abs.twimg.com/images/themes/theme1/bg.png | False                   | https://pbs.twimg.com/profile_banners/2976598347/1464716619  | http://pbs.twimg.com/profile_images/674678985817591808/U ... | https://pbs.twimg.com/profile_images/674678985817591808/ ... | 0084B4             | C0DEED                       | DDEEF6                     | 333333             | True                         | False     | RepMiaLove      | {'text': 'Flag retirement ceremony w/W Jordan scouts tod ... | 440            | None                       | https://t.co/FPQkNcVd05 | nan        | True     | repmialove\n",
       "False                | Mon Jan 12 21:41:39 +0000 2015 | True            | False                 | Aloha!  Welcome to the official Twitter for Congressman  ... | {'description': {'urls': []}, 'url': {'urls': [{'expande ... | 241              | False               | 2645            | False     | 1811          | True        | False                | 2975350155         | 2975350155         | False                  | False         | en   | 180          | Honolulu / Washington, D.C.   | Mark Takai           | False         | C0DEED                   | http://abs.twimg.com/images/themes/theme1/bg.png | https://abs.twimg.com/images/themes/theme1/bg.png | False                   | https://pbs.twimg.com/profile_banners/2975350155/1449688105  | http://pbs.twimg.com/profile_images/554758316929216513/_ ... | https://pbs.twimg.com/profile_images/554758316929216513/ ... | 0084B4             | C0DEED                       | DDEEF6                     | 333333             | True                         | False     | RepMarkTakai    | {'text': \"RT @TNCHawaii: Heading in to see @RepMarkTakai ... | 711            | Eastern Time (US & Canada) | http://t.co/6QVeQHosr6  | -14400     | True     | repmarktakai\n",
       "False                | Mon Jan 12 18:48:35 +0000 2015 | True            | False                 | I'm honored to serve Georgia's 10th Congressional District.  | {'description': {'urls': []}, 'url': {'urls': [{'expande ... | 341              | False               | 2838            | False     | 675           | False       | False                | 2975091705         | 2975091705         | False                  | False         | en   | 144          | Monroe, GA; Washington, D.C.  | Congressman Hice     | False         | C0DEED                   | http://abs.twimg.com/images/themes/theme1/bg.png | https://abs.twimg.com/images/themes/theme1/bg.png | False                   | https://pbs.twimg.com/profile_banners/2975091705/1428081856  | http://pbs.twimg.com/profile_images/554717519135522816/x ... | https://pbs.twimg.com/profile_images/554717519135522816/ ... | 0084B4             | C0DEED                       | DDEEF6                     | 333333             | True                         | False     | CongressmanHice | {'text': 'My staff is bringing the services of my office ... | 793            | Eastern Time (US & Canada) | https://t.co/apR1drgdzS | -14400     | True     | congressmanhice\n",
       "False                | Mon Jan 12 00:33:43 +0000 2015 | True            | False                 | Proudly serving Georgia's 1st Congressional District         | {'description': {'urls': []}, 'url': {'urls': [{'expande ... | 41               | False               | 3196            | False     | 251           | False       | False                | 2973870195         | 2973870195         | False                  | False         | en   | 161          |                               | Buddy Carter         | False         | C0DEED                   | http://abs.twimg.com/images/themes/theme1/bg.png | https://abs.twimg.com/images/themes/theme1/bg.png | False                   | https://pbs.twimg.com/profile_banners/2973870195/1421023289  | http://pbs.twimg.com/profile_images/554437784912400384/N ... | https://pbs.twimg.com/profile_images/554437784912400384/ ... | 0084B4             | C0DEED                       | DDEEF6                     | 333333             | True                         | False     | RepBuddyCarter  | {'text': 'Today I requested the IRS extend the deadline  ... | 697            | None                       | https://t.co/zGq0mX8dEy | nan        | True     | repbuddycarter\n",
       "False                | Fri Jan 09 21:18:27 +0000 2015 | True            | False                 | U.S. Representative for #NY04 (Long Island). Former Nass ... | {'description': {'urls': []}, 'url': {'urls': [{'expande ... | 0                | False               | 4082            | False     | 980           | False       | False                | 2970462034         | 2970462034         | False                  | False         | en   | 198          | Long Island, NY               | Kathleen Rice        | False         | C0DEED                   | http://abs.twimg.com/images/themes/theme1/bg.png | https://abs.twimg.com/images/themes/theme1/bg.png | False                   | https://pbs.twimg.com/profile_banners/2970462034/1453232802  | http://pbs.twimg.com/profile_images/755805100094984192/d ... | https://pbs.twimg.com/profile_images/755805100094984192/ ... | 0084B4             | C0DEED                       | DDEEF6                     | 333333             | True                         | False     | RepKathleenRice | {'text': 'RT @RepJimCosta: During #DomesticViolenceAware ... | 1323           | None                       | http://t.co/XBMpgvbVZ1  | nan        | True     | repkathleenrice\n",
       "... (560 rows omitted)"
      ]
     },
     "execution_count": 43,
     "metadata": {},
     "output_type": "execute_result"
    }
   ],
   "source": [
    "congress_members_data"
   ]
  },
  {
   "cell_type": "markdown",
   "metadata": {},
   "source": [
    "#### Network of official legislator Twitter accounts"
   ]
  },
  {
   "cell_type": "code",
   "execution_count": 7,
   "metadata": {
    "collapsed": false
   },
   "outputs": [
    {
     "data": {
      "text/plain": [
       "519"
      ]
     },
     "execution_count": 7,
     "metadata": {},
     "output_type": "execute_result"
    }
   ],
   "source": [
    "official_congress_twitter.number_of_nodes()"
   ]
  },
  {
   "cell_type": "code",
   "execution_count": 36,
   "metadata": {
    "collapsed": false
   },
   "outputs": [
    {
     "data": {
      "text/plain": [
       "184.03853564547205"
      ]
     },
     "execution_count": 36,
     "metadata": {},
     "output_type": "execute_result"
    }
   ],
   "source": [
    "#measures how many people they are friends with\n",
    "avg_degree = 2*official_congress_twitter.number_of_edges()\\\n",
    "        /official_congress_twitter.number_of_nodes()\n",
    "avg_degree"
   ]
  },
  {
   "cell_type": "code",
   "execution_count": 9,
   "metadata": {
    "collapsed": false
   },
   "outputs": [
    {
     "data": {
      "text/plain": [
       "0.6698933484362136"
      ]
     },
     "execution_count": 9,
     "metadata": {},
     "output_type": "execute_result"
    }
   ],
   "source": [
    "#measures how likely nodes are to cluster together and \n",
    "#form very tight bonds\n",
    "nx.average_clustering(official_congress_twitter)"
   ]
  },
  {
   "cell_type": "code",
   "execution_count": 13,
   "metadata": {
    "collapsed": false
   },
   "outputs": [
    {
     "data": {
      "text/plain": [
       "0.5984762733850006"
      ]
     },
     "execution_count": 13,
     "metadata": {},
     "output_type": "execute_result"
    }
   ],
   "source": [
    "#measures similarity of connections in the graph with \n",
    "#respect to the given attribute (party)\n",
    "nx.attribute_assortativity_coefficient(\n",
    "    official_congress_twitter, 'party')"
   ]
  },
  {
   "cell_type": "code",
   "execution_count": 42,
   "metadata": {
    "collapsed": false
   },
   "outputs": [
    {
     "data": {
      "text/plain": [
       "0.5901175440115135"
      ]
     },
     "execution_count": 42,
     "metadata": {},
     "output_type": "execute_result"
    }
   ],
   "source": [
    "#calculate transitivity\n",
    "nx.transitivity(official_congress_twitter)"
   ]
  },
  {
   "cell_type": "markdown",
   "metadata": {},
   "source": [
    "#### Legislator biographical Info"
   ]
  },
  {
   "cell_type": "code",
   "execution_count": 46,
   "metadata": {
    "collapsed": false
   },
   "outputs": [
    {
     "data": {
      "text/html": [
       "<table border=\"1\" class=\"dataframe\">\n",
       "    <thead>\n",
       "        <tr>\n",
       "            <th>twitter</th> <th>first</th> <th>last</th> <th>middle</th> <th>nickname</th> <th>official_full</th> <th>suffix</th> <th>address</th> <th>caucus</th> <th>class</th> <th>contact_form</th> <th>district</th> <th>end</th> <th>fax</th> <th>office</th> <th>party</th> <th>phone</th> <th>rss_url</th> <th>start</th> <th>state</th> <th>state_rank</th> <th>type</th> <th>url</th> <th>birthday</th> <th>gender</th> <th>religion</th> <th>twitter_id</th> <th>bioguide</th>\n",
       "        </tr>\n",
       "    </thead>\n",
       "    <tbody>\n",
       "        <tr>\n",
       "            <td>sensherrodbrown</td> <td>Sherrod </td> <td>Brown    </td> <td>nan    </td> <td>nan     </td> <td>Sherrod Brown       </td> <td>nan   </td> <td>713 Hart Senate Office Building Washington DC 20510   </td> <td>nan   </td> <td>1    </td> <td>http://www.brown.senate.gov/contact                         </td> <td>nan     </td> <td>2019-01-03</td> <td>202-228-6321</td> <td>713 Hart Senate Office Building   </td> <td>Democrat  </td> <td>202-224-2315</td> <td>http://www.brown.senate.gov/rss/feeds/?type=all&amp;    </td> <td>2013-01-03</td> <td>OH   </td> <td>senior    </td> <td>sen </td> <td>http://www.brown.senate.gov        </td> <td>1952-11-09</td> <td>M     </td> <td>Lutheran         </td> <td>4.39108e+07</td> <td>B000944 </td>\n",
       "        </tr>\n",
       "    </tbody>\n",
       "        <tr>\n",
       "            <td>senatorcantwell</td> <td>Maria   </td> <td>Cantwell </td> <td>nan    </td> <td>nan     </td> <td>Maria Cantwell      </td> <td>nan   </td> <td>511 Hart Senate Office Building Washington DC 20510   </td> <td>nan   </td> <td>1    </td> <td>http://www.cantwell.senate.gov/public/index.cfm/email-maria </td> <td>nan     </td> <td>2019-01-03</td> <td>202-228-0514</td> <td>511 Hart Senate Office Building   </td> <td>Democrat  </td> <td>202-224-3441</td> <td>http://www.cantwell.senate.gov/public/index.cfm/rss/feed</td> <td>2013-01-03</td> <td>WA   </td> <td>junior    </td> <td>sen </td> <td>https://www.cantwell.senate.gov    </td> <td>1958-10-13</td> <td>F     </td> <td>Roman Catholic   </td> <td>1.17502e+08</td> <td>C000127 </td>\n",
       "        </tr>\n",
       "    </tbody>\n",
       "        <tr>\n",
       "            <td>senatorcardin  </td> <td>Benjamin</td> <td>Cardin   </td> <td>L.     </td> <td>nan     </td> <td>Benjamin L. Cardin  </td> <td>nan   </td> <td>509 Hart Senate Office Building Washington DC 20510   </td> <td>nan   </td> <td>1    </td> <td>http://www.cardin.senate.gov/contact/                       </td> <td>nan     </td> <td>2019-01-03</td> <td>202-224-1651</td> <td>509 Hart Senate Office Building   </td> <td>Democrat  </td> <td>202-224-4524</td> <td>http://www.cardin.senate.gov/rss/feeds/?type=all        </td> <td>2013-01-03</td> <td>MD   </td> <td>junior    </td> <td>sen </td> <td>https://www.cardin.senate.gov      </td> <td>1943-10-05</td> <td>M     </td> <td>Jewish           </td> <td>1.09071e+08</td> <td>C000141 </td>\n",
       "        </tr>\n",
       "    </tbody>\n",
       "        <tr>\n",
       "            <td>senatorcarper  </td> <td>Thomas  </td> <td>Carper   </td> <td>Richard</td> <td>nan     </td> <td>Thomas R. Carper    </td> <td>nan   </td> <td>513 Hart Senate Office Building Washington DC 20510   </td> <td>nan   </td> <td>1    </td> <td>http://www.carper.senate.gov/public/index.cfm/email-sena ...</td> <td>nan     </td> <td>2019-01-03</td> <td>202-228-2190</td> <td>513 Hart Senate Office Building   </td> <td>Democrat  </td> <td>202-224-2441</td> <td>http://www.carper.senate.gov/public/index.cfm/rss/feed  </td> <td>2013-01-03</td> <td>DE   </td> <td>senior    </td> <td>sen </td> <td>http://www.carper.senate.gov/public</td> <td>1947-01-23</td> <td>M     </td> <td>Presbyterian     </td> <td>2.49788e+08</td> <td>C000174 </td>\n",
       "        </tr>\n",
       "    </tbody>\n",
       "        <tr>\n",
       "            <td>senbobcasey    </td> <td>Robert  </td> <td>Casey    </td> <td>P.     </td> <td>Bob     </td> <td>Robert P. Casey, Jr.</td> <td>Jr.   </td> <td>393 Russell Senate Office Building Washington DC 20510</td> <td>nan   </td> <td>1    </td> <td>http://www.casey.senate.gov/contact/                        </td> <td>nan     </td> <td>2019-01-03</td> <td>202-228-0604</td> <td>393 Russell Senate Office Building</td> <td>Democrat  </td> <td>202-224-6324</td> <td>http://www.casey.senate.gov/rss/feeds/?all              </td> <td>2013-01-03</td> <td>PA   </td> <td>senior    </td> <td>sen </td> <td>https://www.casey.senate.gov       </td> <td>1960-04-13</td> <td>M     </td> <td>nan              </td> <td>1.71599e+08</td> <td>C001070 </td>\n",
       "        </tr>\n",
       "    </tbody>\n",
       "        <tr>\n",
       "            <td>senbobcorker   </td> <td>Bob     </td> <td>Corker   </td> <td>nan    </td> <td>nan     </td> <td>Bob Corker          </td> <td>nan   </td> <td>425 Dirksen Senate Office Building Washington DC 20510</td> <td>nan   </td> <td>1    </td> <td>http://www.corker.senate.gov/public/index.cfm/emailme       </td> <td>nan     </td> <td>2019-01-03</td> <td>202-228-0566</td> <td>425 Dirksen Senate Office Building</td> <td>Republican</td> <td>202-224-3344</td> <td>http://www.corker.senate.gov/public/index.cfm/rss/feed  </td> <td>2013-01-03</td> <td>TN   </td> <td>junior    </td> <td>sen </td> <td>http://www.corker.senate.gov       </td> <td>1952-08-24</td> <td>M     </td> <td>nan              </td> <td>7.33038e+07</td> <td>C001071 </td>\n",
       "        </tr>\n",
       "    </tbody>\n",
       "        <tr>\n",
       "            <td>senfeinstein   </td> <td>Dianne  </td> <td>Feinstein</td> <td>nan    </td> <td>nan     </td> <td>Dianne Feinstein    </td> <td>nan   </td> <td>331 Hart Senate Office Building Washington DC 20510   </td> <td>nan   </td> <td>1    </td> <td>https://www.feinstein.senate.gov/public/index.cfm/e-mail-me </td> <td>nan     </td> <td>2019-01-03</td> <td>202-228-3954</td> <td>331 Hart Senate Office Building   </td> <td>Democrat  </td> <td>202-224-3841</td> <td>http://www.feinstein.senate.gov/public/?a=rss.feed      </td> <td>2013-01-03</td> <td>CA   </td> <td>senior    </td> <td>sen </td> <td>http://www.feinstein.senate.gov    </td> <td>1933-06-22</td> <td>F     </td> <td>Jewish           </td> <td>4.76257e+08</td> <td>F000062 </td>\n",
       "        </tr>\n",
       "    </tbody>\n",
       "        <tr>\n",
       "            <td>senorrinhatch  </td> <td>Orrin   </td> <td>Hatch    </td> <td>G.     </td> <td>nan     </td> <td>Orrin G. Hatch      </td> <td>nan   </td> <td>104 Hart Senate Office Building Washington DC 20510   </td> <td>nan   </td> <td>1    </td> <td>http://www.hatch.senate.gov/public/index.cfm/contact?p=E ...</td> <td>nan     </td> <td>2019-01-03</td> <td>202-224-6331</td> <td>104 Hart Senate Office Building   </td> <td>Republican</td> <td>202-224-5251</td> <td>http://www.hatch.senate.gov/public/index.cfm/rss/feed   </td> <td>2013-01-03</td> <td>UT   </td> <td>senior    </td> <td>sen </td> <td>http://www.hatch.senate.gov        </td> <td>1934-03-22</td> <td>M     </td> <td>Latter Day Saints</td> <td>2.62757e+08</td> <td>H000338 </td>\n",
       "        </tr>\n",
       "    </tbody>\n",
       "        <tr>\n",
       "            <td>nan            </td> <td>Amy     </td> <td>Klobuchar</td> <td>Jean   </td> <td>nan     </td> <td>Amy Klobuchar       </td> <td>nan   </td> <td>302 Hart Senate Office Building Washington DC 20510   </td> <td>nan   </td> <td>1    </td> <td>http://www.klobuchar.senate.gov/public/email-amy            </td> <td>nan     </td> <td>2019-01-03</td> <td>202-228-2186</td> <td>302 Hart Senate Office Building   </td> <td>Democrat  </td> <td>202-224-3244</td> <td>nan                                                     </td> <td>2013-01-03</td> <td>MN   </td> <td>senior    </td> <td>sen </td> <td>http://www.klobuchar.senate.gov    </td> <td>1960-05-25</td> <td>F     </td> <td>nan              </td> <td>nan        </td> <td>K000367 </td>\n",
       "        </tr>\n",
       "    </tbody>\n",
       "        <tr>\n",
       "            <td>mccaskilloffice</td> <td>Claire  </td> <td>McCaskill</td> <td>nan    </td> <td>nan     </td> <td>Claire McCaskill    </td> <td>nan   </td> <td>730 Hart Senate Office Building Washington DC 20510   </td> <td>nan   </td> <td>1    </td> <td>http://www.mccaskill.senate.gov/?p=contact                  </td> <td>nan     </td> <td>2019-01-03</td> <td>202-228-6326</td> <td>730 Hart Senate Office Building   </td> <td>Democrat  </td> <td>202-224-6154</td> <td>http://mccaskill.senate.gov/rss/?p=news                 </td> <td>2013-01-03</td> <td>MO   </td> <td>senior    </td> <td>sen </td> <td>http://www.mccaskill.senate.gov    </td> <td>1953-07-24</td> <td>F     </td> <td>nan              </td> <td>5.70651e+07</td> <td>M001170 </td>\n",
       "        </tr>\n",
       "    </tbody>\n",
       "</table>\n",
       "<p>... (528 rows omitted)</p"
      ],
      "text/plain": [
       "twitter         | first    | last      | middle  | nickname | official_full        | suffix | address                                                | caucus | class | contact_form                                                 | district | end        | fax          | office                             | party      | phone        | rss_url                                                  | start      | state | state_rank | type | url                                 | birthday   | gender | religion          | twitter_id  | bioguide\n",
       "sensherrodbrown | Sherrod  | Brown     | nan     | nan      | Sherrod Brown        | nan    | 713 Hart Senate Office Building Washington DC 20510    | nan    | 1     | http://www.brown.senate.gov/contact                          | nan      | 2019-01-03 | 202-228-6321 | 713 Hart Senate Office Building    | Democrat   | 202-224-2315 | http://www.brown.senate.gov/rss/feeds/?type=all&amp;     | 2013-01-03 | OH    | senior     | sen  | http://www.brown.senate.gov         | 1952-11-09 | M      | Lutheran          | 4.39108e+07 | B000944\n",
       "senatorcantwell | Maria    | Cantwell  | nan     | nan      | Maria Cantwell       | nan    | 511 Hart Senate Office Building Washington DC 20510    | nan    | 1     | http://www.cantwell.senate.gov/public/index.cfm/email-maria  | nan      | 2019-01-03 | 202-228-0514 | 511 Hart Senate Office Building    | Democrat   | 202-224-3441 | http://www.cantwell.senate.gov/public/index.cfm/rss/feed | 2013-01-03 | WA    | junior     | sen  | https://www.cantwell.senate.gov     | 1958-10-13 | F      | Roman Catholic    | 1.17502e+08 | C000127\n",
       "senatorcardin   | Benjamin | Cardin    | L.      | nan      | Benjamin L. Cardin   | nan    | 509 Hart Senate Office Building Washington DC 20510    | nan    | 1     | http://www.cardin.senate.gov/contact/                        | nan      | 2019-01-03 | 202-224-1651 | 509 Hart Senate Office Building    | Democrat   | 202-224-4524 | http://www.cardin.senate.gov/rss/feeds/?type=all         | 2013-01-03 | MD    | junior     | sen  | https://www.cardin.senate.gov       | 1943-10-05 | M      | Jewish            | 1.09071e+08 | C000141\n",
       "senatorcarper   | Thomas   | Carper    | Richard | nan      | Thomas R. Carper     | nan    | 513 Hart Senate Office Building Washington DC 20510    | nan    | 1     | http://www.carper.senate.gov/public/index.cfm/email-sena ... | nan      | 2019-01-03 | 202-228-2190 | 513 Hart Senate Office Building    | Democrat   | 202-224-2441 | http://www.carper.senate.gov/public/index.cfm/rss/feed   | 2013-01-03 | DE    | senior     | sen  | http://www.carper.senate.gov/public | 1947-01-23 | M      | Presbyterian      | 2.49788e+08 | C000174\n",
       "senbobcasey     | Robert   | Casey     | P.      | Bob      | Robert P. Casey, Jr. | Jr.    | 393 Russell Senate Office Building Washington DC 20510 | nan    | 1     | http://www.casey.senate.gov/contact/                         | nan      | 2019-01-03 | 202-228-0604 | 393 Russell Senate Office Building | Democrat   | 202-224-6324 | http://www.casey.senate.gov/rss/feeds/?all               | 2013-01-03 | PA    | senior     | sen  | https://www.casey.senate.gov        | 1960-04-13 | M      | nan               | 1.71599e+08 | C001070\n",
       "senbobcorker    | Bob      | Corker    | nan     | nan      | Bob Corker           | nan    | 425 Dirksen Senate Office Building Washington DC 20510 | nan    | 1     | http://www.corker.senate.gov/public/index.cfm/emailme        | nan      | 2019-01-03 | 202-228-0566 | 425 Dirksen Senate Office Building | Republican | 202-224-3344 | http://www.corker.senate.gov/public/index.cfm/rss/feed   | 2013-01-03 | TN    | junior     | sen  | http://www.corker.senate.gov        | 1952-08-24 | M      | nan               | 7.33038e+07 | C001071\n",
       "senfeinstein    | Dianne   | Feinstein | nan     | nan      | Dianne Feinstein     | nan    | 331 Hart Senate Office Building Washington DC 20510    | nan    | 1     | https://www.feinstein.senate.gov/public/index.cfm/e-mail-me  | nan      | 2019-01-03 | 202-228-3954 | 331 Hart Senate Office Building    | Democrat   | 202-224-3841 | http://www.feinstein.senate.gov/public/?a=rss.feed       | 2013-01-03 | CA    | senior     | sen  | http://www.feinstein.senate.gov     | 1933-06-22 | F      | Jewish            | 4.76257e+08 | F000062\n",
       "senorrinhatch   | Orrin    | Hatch     | G.      | nan      | Orrin G. Hatch       | nan    | 104 Hart Senate Office Building Washington DC 20510    | nan    | 1     | http://www.hatch.senate.gov/public/index.cfm/contact?p=E ... | nan      | 2019-01-03 | 202-224-6331 | 104 Hart Senate Office Building    | Republican | 202-224-5251 | http://www.hatch.senate.gov/public/index.cfm/rss/feed    | 2013-01-03 | UT    | senior     | sen  | http://www.hatch.senate.gov         | 1934-03-22 | M      | Latter Day Saints | 2.62757e+08 | H000338\n",
       "nan             | Amy      | Klobuchar | Jean    | nan      | Amy Klobuchar        | nan    | 302 Hart Senate Office Building Washington DC 20510    | nan    | 1     | http://www.klobuchar.senate.gov/public/email-amy             | nan      | 2019-01-03 | 202-228-2186 | 302 Hart Senate Office Building    | Democrat   | 202-224-3244 | nan                                                      | 2013-01-03 | MN    | senior     | sen  | http://www.klobuchar.senate.gov     | 1960-05-25 | F      | nan               | nan         | K000367\n",
       "mccaskilloffice | Claire   | McCaskill | nan     | nan      | Claire McCaskill     | nan    | 730 Hart Senate Office Building Washington DC 20510    | nan    | 1     | http://www.mccaskill.senate.gov/?p=contact                   | nan      | 2019-01-03 | 202-228-6326 | 730 Hart Senate Office Building    | Democrat   | 202-224-6154 | http://mccaskill.senate.gov/rss/?p=news                  | 2013-01-03 | MO    | senior     | sen  | http://www.mccaskill.senate.gov     | 1953-07-24 | F      | nan               | 5.70651e+07 | M001170\n",
       "... (528 rows omitted)"
      ]
     },
     "execution_count": 46,
     "metadata": {},
     "output_type": "execute_result"
    }
   ],
   "source": [
    "legislator_data"
   ]
  },
  {
   "cell_type": "markdown",
   "metadata": {},
   "source": [
    "#### Joining the Tables"
   ]
  },
  {
   "cell_type": "code",
   "execution_count": 37,
   "metadata": {
    "collapsed": false
   },
   "outputs": [],
   "source": [
    "desired_col = congress_members_data.column(\"screen_name\")\n",
    "congress_members_data = congress_members_data.with_columns(\n",
    "    \"mod_screen_name\", [x.lower() for x in desired_col])\n",
    "joined_tables = legislator_data.join(\n",
    "    \"twitter\", congress_members_data, \"mod_screen_name\")\n",
    "joined_tables = joined_tables.drop(\"screen_name\")\n",
    "#joined_tables"
   ]
  },
  {
   "cell_type": "markdown",
   "metadata": {},
   "source": [
    "#### Analyzing using official_congress_twitter (directed, unweighted graph)"
   ]
  },
  {
   "cell_type": "code",
   "execution_count": 18,
   "metadata": {
    "collapsed": false
   },
   "outputs": [
    {
     "data": {
      "text/html": [
       "<table border=\"1\" class=\"dataframe\">\n",
       "    <thead>\n",
       "        <tr>\n",
       "            <th>party</th> <th>count</th>\n",
       "        </tr>\n",
       "    </thead>\n",
       "    <tbody>\n",
       "        <tr>\n",
       "            <td>Democrat   </td> <td>211  </td>\n",
       "        </tr>\n",
       "    </tbody>\n",
       "        <tr>\n",
       "            <td>Independent</td> <td>2    </td>\n",
       "        </tr>\n",
       "    </tbody>\n",
       "        <tr>\n",
       "            <td>Republican </td> <td>282  </td>\n",
       "        </tr>\n",
       "    </tbody>\n",
       "</table>"
      ],
      "text/plain": [
       "party       | count\n",
       "Democrat    | 211\n",
       "Independent | 2\n",
       "Republican  | 282"
      ]
     },
     "execution_count": 18,
     "metadata": {},
     "output_type": "execute_result"
    }
   ],
   "source": [
    "#Republicans have majority in Congress \n",
    "group_by_party = joined_tables.group(\"party\")\n",
    "group_by_party"
   ]
  },
  {
   "cell_type": "code",
   "execution_count": 19,
   "metadata": {
    "collapsed": false
   },
   "outputs": [
    {
     "data": {
      "text/html": [
       "<table border=\"1\" class=\"dataframe\">\n",
       "    <thead>\n",
       "        <tr>\n",
       "            <th>party</th> <th>followers_count sum</th>\n",
       "        </tr>\n",
       "    </thead>\n",
       "    <tbody>\n",
       "        <tr>\n",
       "            <td>Democrat   </td> <td>8305302            </td>\n",
       "        </tr>\n",
       "    </tbody>\n",
       "        <tr>\n",
       "            <td>Independent</td> <td>2681450            </td>\n",
       "        </tr>\n",
       "    </tbody>\n",
       "        <tr>\n",
       "            <td>Republican </td> <td>9013929            </td>\n",
       "        </tr>\n",
       "    </tbody>\n",
       "</table>"
      ],
      "text/plain": [
       "<IPython.core.display.HTML object>"
      ]
     },
     "metadata": {},
     "output_type": "display_data"
    }
   ],
   "source": [
    "#Majority party has more followers\n",
    "num_followers = joined_tables.select(\n",
    "    \"party\", \"followers_count\").group(\"party\", np.sum)\n",
    "num_followers.show()"
   ]
  },
  {
   "cell_type": "code",
   "execution_count": 20,
   "metadata": {
    "collapsed": false
   },
   "outputs": [
    {
     "name": "stdout",
     "output_type": "stream",
     "text": [
      "Average Degree for Democrats:  184.578199052\n",
      "Average Degree for Republicans:  186.067375887\n"
     ]
    }
   ],
   "source": [
    "#See relationship between average degree and party\n",
    "id_and_degree = Table().with_columns(\n",
    "    \"Twitter ID\", official_congress_twitter.nodes(),\n",
    "    \"Degree\", official_congress_twitter.degree().values())\n",
    "\n",
    "id_and_party = joined_tables.select(\"twitter_id\", \"party\")\n",
    "i_p_d = id_and_party.join(\"twitter_id\", id_and_degree, \\\n",
    "            \"Twitter ID\").sort(\"Degree\", descending=True)\n",
    "\n",
    "dem_only = i_p_d.drop(\n",
    "    \"twitter_id\").where(\"party\", are.equal_to(\"Democrat\"))\n",
    "rep_only = i_p_d.drop(\n",
    "    \"twitter_id\").where(\"party\", are.equal_to(\"Republican\"))\n",
    "\n",
    "avg_degree_dem = np.sum(dem_only.column(\"Degree\"))/dem_only.num_rows\n",
    "print(\"Average Degree for Democrats: \", avg_degree_dem)\n",
    "avg_degree_rep = np.sum(rep_only.column(\"Degree\"))/rep_only.num_rows\n",
    "print(\"Average Degree for Republicans: \", avg_degree_rep)"
   ]
  },
  {
   "cell_type": "code",
   "execution_count": 21,
   "metadata": {
    "collapsed": false
   },
   "outputs": [
    {
     "name": "stdout",
     "output_type": "stream",
     "text": [
      "Average Status Count for Democrats:  3557.2417061611372\n",
      "Average Status Count for Republicans:  3030.294326241135\n"
     ]
    }
   ],
   "source": [
    "#See relationship between # of twitter statuses and party\n",
    "p_s = joined_tables.select(\"party\", \"statuses_count\")\n",
    "p_s_count = p_s.group(\"party\")\n",
    "\n",
    "p_s = p_s.group(\"party\", np.sum).relabel(\n",
    "            \"statuses_count sum\", \"statuses_count\")\n",
    "avg_status_count = p_s.column(\n",
    "    \"statuses_count\")/p_s_count.column(\"count\")\n",
    "\n",
    "print(\"Average Status Count for Democrats: \", \\\n",
    "      avg_status_count.item(0))\n",
    "print(\"Average Status Count for Republicans: \", \\\n",
    "      avg_status_count.item(2))"
   ]
  },
  {
   "cell_type": "code",
   "execution_count": 22,
   "metadata": {
    "collapsed": false
   },
   "outputs": [
    {
     "name": "stdout",
     "output_type": "stream",
     "text": [
      "Average Friend Count for Democrats:  2489.872037914692\n",
      "Average Friend Count for Republicans:  1568.1418439716313\n"
     ]
    }
   ],
   "source": [
    "#See relationship between # of Twitter friends and party\n",
    "p_f = joined_tables.select(\"party\", \"friends_count\")\n",
    "p_f_count = p_f.group(\"party\")\n",
    "\n",
    "p_f = p_f.group(\"party\", np.sum).relabel(\n",
    "    \"friends_count sum\", \"friends_count\")\n",
    "avg_status_count = p_f.column(\n",
    "    \"friends_count\")/p_f_count.column(\"count\")\n",
    "\n",
    "print(\"Average Friend Count for Democrats: \", avg_status_count.item(0))\n",
    "print(\"Average Friend Count for Republicans: \", avg_status_count.item(2))"
   ]
  },
  {
   "cell_type": "code",
   "execution_count": 38,
   "metadata": {
    "collapsed": false
   },
   "outputs": [],
   "source": [
    "#list of twitter id of members of each party\n",
    "dem = [n for n in official_congress_twitter if \\\n",
    "    official_congress_twitter.node[n]['party'] == 'Democrat']\n",
    "rep = [n for n in official_congress_twitter if \\\n",
    "    official_congress_twitter.node[n]['party'] == 'Republican']\n",
    "\n",
    "#creates respective subgraphs for each party\n",
    "dem_graph = official_congress_twitter.subgraph(dem)\n",
    "rep_graph = official_congress_twitter.subgraph(rep)"
   ]
  },
  {
   "cell_type": "code",
   "execution_count": 39,
   "metadata": {
    "collapsed": false
   },
   "outputs": [
    {
     "name": "stdout",
     "output_type": "stream",
     "text": [
      "Average neighbor degree for Democrats:  152.9167886240047\n",
      "Average neighbor degree for Republicans:  185.25202473522882\n"
     ]
    }
   ],
   "source": [
    "#Calculates degree of average neighbor\n",
    "dict_avg_neighbor_dem = nx.average_neighbor_degree(dem_graph)\n",
    "dict_avg_neighbor_rep = nx.average_neighbor_degree(rep_graph)\n",
    "\n",
    "avg_neighbor_degree_dem = sum(\n",
    "    dict_avg_neighbor_dem.values())/len(dict_avg_neighbor_dem)\n",
    "avg_neighbor_degree_rep = sum(\n",
    "    dict_avg_neighbor_rep.values())/len(dict_avg_neighbor_rep)\n",
    "\n",
    "print(\"Average neighbor degree for Democrats: \", avg_neighbor_degree_dem)\n",
    "print(\"Average neighbor degree for Republicans: \", avg_neighbor_degree_rep)"
   ]
  },
  {
   "cell_type": "code",
   "execution_count": 25,
   "metadata": {
    "collapsed": false
   },
   "outputs": [
    {
     "name": "stdout",
     "output_type": "stream",
     "text": [
      "Average clustering coefficient for Democrats:  0.7786453266184385\n",
      "Average clustering coefficient for Republicans:  0.753744656943668\n"
     ]
    }
   ],
   "source": [
    "#calculates clustering coefficient for each party\n",
    "#Measures extent of transitivity \n",
    "dem_clustering = nx.average_clustering(dem_graph)\n",
    "rep_clustering = nx.average_clustering(rep_graph)\n",
    "\n",
    "print(\"Average clustering coefficient for Democrats: \", dem_clustering)\n",
    "print(\"Average clustering coefficient for Republicans: \", rep_clustering)"
   ]
  },
  {
   "cell_type": "code",
   "execution_count": 26,
   "metadata": {
    "collapsed": false
   },
   "outputs": [
    {
     "name": "stdout",
     "output_type": "stream",
     "text": [
      "transitivity for Democrats:  0.7267131755563405\n",
      "transitivity coefficient for Republicans:  0.7055725494652744\n"
     ]
    }
   ],
   "source": [
    "#Calculates transitivity for each party\n",
    "#Indicates the tendency for a person's friends to be friends with each other\n",
    "dem_transitivity = nx.transitivity(dem_graph)\n",
    "rep_transitivity = nx.transitivity(rep_graph)\n",
    "\n",
    "print(\"transitivity for Democrats: \", dem_transitivity)\n",
    "print(\"transitivity coefficient for Republicans: \", rep_transitivity)"
   ]
  },
  {
   "cell_type": "code",
   "execution_count": 27,
   "metadata": {
    "collapsed": false
   },
   "outputs": [
    {
     "data": {
      "text/plain": [
       "0.5984762733850006"
      ]
     },
     "execution_count": 27,
     "metadata": {},
     "output_type": "execute_result"
    }
   ],
   "source": [
    "#Calculates assortativity coefficient for each party\n",
    "#if assortativity coefficient > 1, that means members of the same group \n",
    "#are more likely to be connected to each other than to other groups\n",
    "nx.attribute_assortativity_coefficient(official_congress_twitter, \"party\")"
   ]
  },
  {
   "cell_type": "markdown",
   "metadata": {},
   "source": [
    "#### Analyzing using weighted_UD_graph (weighted, undirected version of official_congress_twitter)"
   ]
  },
  {
   "cell_type": "code",
   "execution_count": 28,
   "metadata": {
    "collapsed": false
   },
   "outputs": [],
   "source": [
    "#create undirected, weighted version of official_congress_twitter\n",
    "#if they follow each other mutually, weight = 2\n",
    "#if it's only one-way, weight = 1\n",
    "weighted_UD_graph = nx.Graph()\n",
    "\n",
    "for key in official_congress_friends.keys():\n",
    "    values = official_congress_friends.get(key)\n",
    "    for val in values:\n",
    "        other_val = official_congress_friends.get(val)\n",
    "        if key in other_val:\n",
    "            weighted_UD_graph.add_edge(key, val, weight=2)\n",
    "        else:\n",
    "            weighted_UD_graph.add_edge(key, val, weight=1)"
   ]
  },
  {
   "cell_type": "code",
   "execution_count": 40,
   "metadata": {
    "collapsed": false
   },
   "outputs": [
    {
     "name": "stdout",
     "output_type": "stream",
     "text": [
      "Average Degree for Democrats:  190.09478673\n",
      "Average Degree for Republicans:  179.191489362\n"
     ]
    }
   ],
   "source": [
    "#See relationship between average degree and party\n",
    "id_and_degree = Table().with_columns(\n",
    "    \"Twitter ID\", weighted_UD_graph.nodes(),\n",
    "    \"Degree\", weighted_UD_graph.degree().values())\n",
    "\n",
    "id_and_party = joined_tables.select(\"twitter_id\", \"party\")\n",
    "i_p_d = id_and_party.join(\"twitter_id\", id_and_degree, \\\n",
    "                    \"Twitter ID\").sort(\"Degree\", descending=True)\n",
    "\n",
    "dem_only = i_p_d.drop(\"twitter_id\").where(\"party\", \\\n",
    "                                are.equal_to(\"Democrat\"))\n",
    "rep_only = i_p_d.drop(\"twitter_id\").where(\"party\", \\\n",
    "                                are.equal_to(\"Republican\"))\n",
    "\n",
    "avg_degree_dem = np.sum(dem_only.column(\n",
    "        \"Degree\"))/dem_only.num_rows\n",
    "print(\"Average Degree for Democrats: \", avg_degree_dem)\n",
    "avg_degree_rep = np.sum(rep_only.column(\n",
    "        \"Degree\"))/rep_only.num_rows\n",
    "print(\"Average Degree for Republicans: \", avg_degree_rep)"
   ]
  }
 ],
 "metadata": {
  "kernelspec": {
   "display_name": "Python 3",
   "language": "python",
   "name": "python3"
  },
  "language_info": {
   "codemirror_mode": {
    "name": "ipython",
    "version": 3
   },
   "file_extension": ".py",
   "mimetype": "text/x-python",
   "name": "python",
   "nbconvert_exporter": "python",
   "pygments_lexer": "ipython3",
   "version": "3.5.2"
  },
  "timetravel": {
   "allowedContentTypes": [
    "text/plain"
   ],
   "enabled": false,
   "version": "1.0"
  }
 },
 "nbformat": 4,
 "nbformat_minor": 1
}
